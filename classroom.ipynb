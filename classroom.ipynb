{
  "nbformat": 4,
  "nbformat_minor": 0,
  "metadata": {
    "colab": {
      "provenance": [],
      "toc_visible": true,
      "authorship_tag": "ABX9TyNmsOWC1WIS5ShCbZzJ8TR6",
      "include_colab_link": true
    },
    "kernelspec": {
      "name": "python3",
      "display_name": "Python 3"
    },
    "language_info": {
      "name": "python"
    }
  },
  "cells": [
    {
      "cell_type": "markdown",
      "metadata": {
        "id": "view-in-github",
        "colab_type": "text"
      },
      "source": [
        "<a href=\"https://colab.research.google.com/github/maniprasad84/2311cs020450/blob/main/classroom.ipynb\" target=\"_parent\"><img src=\"https://colab.research.google.com/assets/colab-badge.svg\" alt=\"Open In Colab\"/></a>"
      ]
    },
    {
      "cell_type": "code",
      "execution_count": null,
      "metadata": {
        "id": "IFvzuZc7nSd_"
      },
      "outputs": [],
      "source": [
        "import numpy as np\n"
      ]
    },
    {
      "cell_type": "code",
      "source": [
        "j=[9,4,5,6,3,2]\n",
        "j"
      ],
      "metadata": {
        "colab": {
          "base_uri": "https://localhost:8080/"
        },
        "id": "VxLLGOS1nXmm",
        "outputId": "1bae6158-657a-4b15-9507-86f256a662f8"
      },
      "execution_count": null,
      "outputs": [
        {
          "output_type": "execute_result",
          "data": {
            "text/plain": [
              "[9, 4, 5, 6, 3, 2]"
            ]
          },
          "metadata": {},
          "execution_count": 2
        }
      ]
    },
    {
      "cell_type": "code",
      "source": [
        "d=np.array(j)\n",
        "d"
      ],
      "metadata": {
        "colab": {
          "base_uri": "https://localhost:8080/"
        },
        "id": "zilju6StngID",
        "outputId": "a5f9efe7-d05e-4757-b06a-c9ad03c074c3"
      },
      "execution_count": null,
      "outputs": [
        {
          "output_type": "execute_result",
          "data": {
            "text/plain": [
              "array([9, 4, 5, 6, 3, 2])"
            ]
          },
          "metadata": {},
          "execution_count": 3
        }
      ]
    },
    {
      "cell_type": "code",
      "source": [
        "d.shape"
      ],
      "metadata": {
        "colab": {
          "base_uri": "https://localhost:8080/"
        },
        "id": "ji3U4foFnluW",
        "outputId": "d482407e-fc35-43dc-a7c7-6df3af524b11"
      },
      "execution_count": null,
      "outputs": [
        {
          "output_type": "execute_result",
          "data": {
            "text/plain": [
              "(6,)"
            ]
          },
          "metadata": {},
          "execution_count": 4
        }
      ]
    },
    {
      "cell_type": "code",
      "source": [
        "d.size"
      ],
      "metadata": {
        "colab": {
          "base_uri": "https://localhost:8080/"
        },
        "id": "_W5Ye_--norR",
        "outputId": "a95028de-036b-405d-a208-3c86c396f617"
      },
      "execution_count": null,
      "outputs": [
        {
          "output_type": "execute_result",
          "data": {
            "text/plain": [
              "6"
            ]
          },
          "metadata": {},
          "execution_count": 6
        }
      ]
    },
    {
      "cell_type": "code",
      "source": [
        "r=[3,5,4.4,5.5,6]\n",
        "j"
      ],
      "metadata": {
        "colab": {
          "base_uri": "https://localhost:8080/"
        },
        "id": "4pIalKMbnu9r",
        "outputId": "8d0e6591-9966-478a-c1ea-c69ef823b943"
      },
      "execution_count": null,
      "outputs": [
        {
          "output_type": "execute_result",
          "data": {
            "text/plain": [
              "[9, 4, 5, 6, 3, 2]"
            ]
          },
          "metadata": {},
          "execution_count": 7
        }
      ]
    },
    {
      "cell_type": "code",
      "source": [
        "r=[3,5,4.4,5.5,6]\n",
        "r"
      ],
      "metadata": {
        "colab": {
          "base_uri": "https://localhost:8080/"
        },
        "id": "GnuW7OCr1raq",
        "outputId": "8999d3a2-5e26-4c3a-f9b1-603e40db34dc"
      },
      "execution_count": null,
      "outputs": [
        {
          "output_type": "execute_result",
          "data": {
            "text/plain": [
              "[3, 5, 4.4, 5.5, 6]"
            ]
          },
          "metadata": {},
          "execution_count": 8
        }
      ]
    },
    {
      "cell_type": "code",
      "source": [
        "y=[]\n",
        "x=[]\n",
        "for i in range (len(j)):\n",
        "  if i%2==0:\n",
        "    x.append(j[i])\n",
        "  else:\n",
        "    y.append(j[i])"
      ],
      "metadata": {
        "id": "3USma0Lb2TxS"
      },
      "execution_count": null,
      "outputs": []
    },
    {
      "cell_type": "code",
      "source": [
        "for i in j:\n",
        "  print (i)"
      ],
      "metadata": {
        "colab": {
          "base_uri": "https://localhost:8080/"
        },
        "id": "yet3LVqL4pjo",
        "outputId": "89d57c5d-ebb2-4d59-fdb5-f279d029f7d5"
      },
      "execution_count": null,
      "outputs": [
        {
          "output_type": "stream",
          "name": "stdout",
          "text": [
            "9\n",
            "4\n",
            "5\n",
            "6\n",
            "3\n",
            "2\n"
          ]
        }
      ]
    },
    {
      "cell_type": "code",
      "source": [
        "range(len(j))\n"
      ],
      "metadata": {
        "colab": {
          "base_uri": "https://localhost:8080/"
        },
        "id": "hR3YLvZO6PTf",
        "outputId": "a887b4ef-4eef-40e8-e397-184a5e861757"
      },
      "execution_count": null,
      "outputs": [
        {
          "output_type": "execute_result",
          "data": {
            "text/plain": [
              "range(0, 6)"
            ]
          },
          "metadata": {},
          "execution_count": 15
        }
      ]
    },
    {
      "cell_type": "code",
      "source": [
        "for i in j:\n",
        "  print (i)"
      ],
      "metadata": {
        "colab": {
          "base_uri": "https://localhost:8080/"
        },
        "id": "B1aiGgUv40bj",
        "outputId": "bf4b1c25-5bd4-46a9-82ee-418aabe44619"
      },
      "execution_count": null,
      "outputs": [
        {
          "output_type": "stream",
          "name": "stdout",
          "text": [
            "9\n",
            "4\n",
            "5\n",
            "6\n",
            "3\n",
            "2\n"
          ]
        }
      ]
    },
    {
      "cell_type": "code",
      "source": [
        "range(9)"
      ],
      "metadata": {
        "colab": {
          "base_uri": "https://localhost:8080/"
        },
        "id": "F0AbssMn6f4x",
        "outputId": "5247e31e-a744-4260-a97b-06cc37eb055f"
      },
      "execution_count": null,
      "outputs": [
        {
          "output_type": "execute_result",
          "data": {
            "text/plain": [
              "range(0, 9)"
            ]
          },
          "metadata": {},
          "execution_count": 17
        }
      ]
    },
    {
      "cell_type": "code",
      "source": [
        "range(4)"
      ],
      "metadata": {
        "colab": {
          "base_uri": "https://localhost:8080/"
        },
        "id": "kThgh5xH6mjG",
        "outputId": "01a283a6-f604-44cb-b2e3-0877bc892ff3"
      },
      "execution_count": null,
      "outputs": [
        {
          "output_type": "execute_result",
          "data": {
            "text/plain": [
              "range(0, 4)"
            ]
          },
          "metadata": {},
          "execution_count": 18
        }
      ]
    },
    {
      "cell_type": "code",
      "source": [
        "for i in range(len(j)):\n",
        "  print(i)"
      ],
      "metadata": {
        "colab": {
          "base_uri": "https://localhost:8080/"
        },
        "id": "QXHmgw7_6pSJ",
        "outputId": "b9ea4fc2-9594-47e1-f797-ff9935f59963"
      },
      "execution_count": null,
      "outputs": [
        {
          "output_type": "stream",
          "name": "stdout",
          "text": [
            "0\n",
            "1\n",
            "2\n",
            "3\n",
            "4\n",
            "5\n"
          ]
        }
      ]
    },
    {
      "cell_type": "code",
      "source": [
        "m=[20,30,80,64,57]\n",
        "m"
      ],
      "metadata": {
        "id": "pW0kqqBz60NC",
        "colab": {
          "base_uri": "https://localhost:8080/"
        },
        "outputId": "c7eaa7dd-b320-4d49-9e86-15cd5fdee839"
      },
      "execution_count": null,
      "outputs": [
        {
          "output_type": "execute_result",
          "data": {
            "text/plain": [
              "[20, 30, 80, 64, 57]"
            ]
          },
          "metadata": {},
          "execution_count": 20
        }
      ]
    },
    {
      "cell_type": "code",
      "source": [
        "np.quantile(m,0.25)"
      ],
      "metadata": {
        "colab": {
          "base_uri": "https://localhost:8080/"
        },
        "id": "UwI6TH_dDvsx",
        "outputId": "80549fb8-8407-406e-fab2-0a53be8fc590"
      },
      "execution_count": null,
      "outputs": [
        {
          "output_type": "execute_result",
          "data": {
            "text/plain": [
              "30.0"
            ]
          },
          "metadata": {},
          "execution_count": 21
        }
      ]
    },
    {
      "cell_type": "code",
      "source": [
        "np.quantile(m,0.5)"
      ],
      "metadata": {
        "colab": {
          "base_uri": "https://localhost:8080/"
        },
        "id": "irK45QyGFgsG",
        "outputId": "db6f6a60-23e0-428c-b8b4-a6c4aca47294"
      },
      "execution_count": null,
      "outputs": [
        {
          "output_type": "execute_result",
          "data": {
            "text/plain": [
              "57.0"
            ]
          },
          "metadata": {},
          "execution_count": 22
        }
      ]
    },
    {
      "cell_type": "code",
      "source": [
        "np.quantile(m,0.75)"
      ],
      "metadata": {
        "colab": {
          "base_uri": "https://localhost:8080/"
        },
        "id": "Bv8cUX3kFli5",
        "outputId": "c43b6bb8-5f55-4bf1-ca1d-f09cca5c203d"
      },
      "execution_count": null,
      "outputs": [
        {
          "output_type": "execute_result",
          "data": {
            "text/plain": [
              "64.0"
            ]
          },
          "metadata": {},
          "execution_count": 23
        }
      ]
    },
    {
      "cell_type": "code",
      "source": [
        "np.random.rand()"
      ],
      "metadata": {
        "colab": {
          "base_uri": "https://localhost:8080/"
        },
        "id": "riqqhtOXFt_E",
        "outputId": "c53eae85-2136-498e-bfe6-b84aae692c38"
      },
      "execution_count": null,
      "outputs": [
        {
          "output_type": "execute_result",
          "data": {
            "text/plain": [
              "0.9621229371411282"
            ]
          },
          "metadata": {},
          "execution_count": 24
        }
      ]
    },
    {
      "cell_type": "code",
      "source": [
        "np.random.rand(100)"
      ],
      "metadata": {
        "colab": {
          "base_uri": "https://localhost:8080/"
        },
        "id": "fnNkfDwILKoE",
        "outputId": "7e26c760-4de3-4fec-c9b4-71f532dc8be9"
      },
      "execution_count": null,
      "outputs": [
        {
          "output_type": "execute_result",
          "data": {
            "text/plain": [
              "array([0.6267113 , 0.51690249, 0.82982858, 0.85572274, 0.35168073,\n",
              "       0.47380803, 0.88681544, 0.82938011, 0.17152841, 0.12119571,\n",
              "       0.04937476, 0.10082517, 0.62038569, 0.2899846 , 0.64907873,\n",
              "       0.71331583, 0.36905737, 0.69104265, 0.85342657, 0.07632408,\n",
              "       0.88148182, 0.7858719 , 0.67538707, 0.38748048, 0.58298758,\n",
              "       0.24425294, 0.38270356, 0.79885474, 0.74178311, 0.17416511,\n",
              "       0.34463012, 0.31744426, 0.47208089, 0.25002225, 0.20693926,\n",
              "       0.04834223, 0.70800644, 0.00101609, 0.56876011, 0.15294793,\n",
              "       0.80276529, 0.58296597, 0.48292372, 0.11675535, 0.59621434,\n",
              "       0.74301261, 0.64650456, 0.45131231, 0.3603744 , 0.37267195,\n",
              "       0.43116862, 0.55852267, 0.04345709, 0.2109833 , 0.1567815 ,\n",
              "       0.94603202, 0.13654417, 0.26024988, 0.23919498, 0.27239542,\n",
              "       0.86765073, 0.97616425, 0.50450157, 0.84639602, 0.93868827,\n",
              "       0.69330191, 0.21845537, 0.18640612, 0.60678403, 0.99981476,\n",
              "       0.69909028, 0.13126802, 0.42725787, 0.18038557, 0.62138021,\n",
              "       0.1424249 , 0.58458589, 0.33416979, 0.49177608, 0.32827422,\n",
              "       0.15126875, 0.24780899, 0.78952318, 0.40903003, 0.44126987,\n",
              "       0.25518189, 0.57068222, 0.78179829, 0.11749399, 0.19822359,\n",
              "       0.65044327, 0.12691347, 0.73016844, 0.86150731, 0.39182689,\n",
              "       0.51383571, 0.76858657, 0.38519574, 0.81089029, 0.41934779])"
            ]
          },
          "metadata": {},
          "execution_count": 25
        }
      ]
    },
    {
      "cell_type": "code",
      "source": [
        "import numpy as np\n",
        "\n"
      ],
      "metadata": {
        "id": "SSVi0R-kLS8w"
      },
      "execution_count": null,
      "outputs": []
    },
    {
      "cell_type": "code",
      "source": [
        "np.random.randn(10,4)"
      ],
      "metadata": {
        "colab": {
          "base_uri": "https://localhost:8080/"
        },
        "id": "-0kr_ozmLdYg",
        "outputId": "709385fe-f757-414d-c8cd-d81c10a65922"
      },
      "execution_count": null,
      "outputs": [
        {
          "output_type": "execute_result",
          "data": {
            "text/plain": [
              "array([[-6.10558688e-01, -1.27768734e-01,  7.98943056e-01,\n",
              "         1.79294235e+00],\n",
              "       [-2.06970363e-01,  1.92499080e+00,  1.44662100e+00,\n",
              "         2.13208237e-01],\n",
              "       [-2.99012565e+00,  2.72664623e+00, -1.29744129e+00,\n",
              "        -1.58943558e-01],\n",
              "       [ 5.55353790e-01,  1.26203774e+00,  8.54175450e-01,\n",
              "        -9.41948135e-03],\n",
              "       [ 2.61392382e-01, -1.07370293e+00,  4.84470405e-01,\n",
              "        -1.14388527e+00],\n",
              "       [ 5.34197676e-01,  3.64783376e-01,  4.28971086e-01,\n",
              "         3.29703404e-02],\n",
              "       [ 1.67144390e+00,  8.64976466e-03, -4.04396951e-01,\n",
              "         7.01049846e-01],\n",
              "       [-9.10098223e-01, -1.66341889e+00, -2.02765536e-01,\n",
              "        -1.79462511e+00],\n",
              "       [-3.87166574e-04,  3.16656347e-01, -2.91543846e-01,\n",
              "        -5.32740350e-01],\n",
              "       [ 4.31618983e-02, -3.94390842e-01,  1.45249613e+00,\n",
              "        -9.35472576e-01]])"
            ]
          },
          "metadata": {},
          "execution_count": 32
        }
      ]
    },
    {
      "cell_type": "code",
      "source": [
        "np.random.randint(5,66)"
      ],
      "metadata": {
        "colab": {
          "base_uri": "https://localhost:8080/"
        },
        "id": "2Xq4nJN0MBqr",
        "outputId": "31a8fb0e-86cc-4073-a5a3-962033242a10"
      },
      "execution_count": null,
      "outputs": [
        {
          "output_type": "execute_result",
          "data": {
            "text/plain": [
              "64"
            ]
          },
          "metadata": {},
          "execution_count": 35
        }
      ]
    },
    {
      "cell_type": "markdown",
      "source": [
        "# New Section"
      ],
      "metadata": {
        "id": "9YbhmqP3OMmZ"
      }
    },
    {
      "cell_type": "code",
      "source": [],
      "metadata": {
        "id": "tnpmkbZnOOiS"
      },
      "execution_count": null,
      "outputs": []
    },
    {
      "cell_type": "code",
      "source": [
        "np.random.randint(35,86,(5,5))"
      ],
      "metadata": {
        "colab": {
          "base_uri": "https://localhost:8080/"
        },
        "id": "zs1hFzKNMYia",
        "outputId": "da59d831-65fe-4fac-cea3-709e55f260b6"
      },
      "execution_count": null,
      "outputs": [
        {
          "output_type": "execute_result",
          "data": {
            "text/plain": [
              "array([[71, 54, 75, 69, 74],\n",
              "       [55, 74, 40, 74, 80],\n",
              "       [45, 59, 44, 45, 70],\n",
              "       [55, 42, 68, 50, 40],\n",
              "       [51, 80, 77, 54, 58]])"
            ]
          },
          "metadata": {},
          "execution_count": 39
        }
      ]
    },
    {
      "cell_type": "code",
      "source": [],
      "metadata": {
        "id": "v-Oa3zoSOmQD"
      },
      "execution_count": null,
      "outputs": []
    }
  ]
}